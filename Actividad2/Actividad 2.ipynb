{
 "cells": [
  {
   "cell_type": "code",
   "execution_count": 1,
   "metadata": {
    "collapsed": true
   },
   "outputs": [],
   "source": [
    "#Cargar a la memoria de trabajo las bibliotecas: Pandas (manejo de datos,\n",
    "#Numpy (numerical python) y la biblioteca de gráficas Matplotlib\n",
    "#asignamos nombres cortos\n",
    "import pandas as pd\n",
    "import numpy as np\n",
    "import matplotlib.pyplot as plt\n",
    "#\n",
    "# usar \"shift+enter\" para procesar la información de la celda\n",
    "#\n"
   ]
  },
  {
   "cell_type": "code",
   "execution_count": 2,
   "metadata": {
    "collapsed": true
   },
   "outputs": [],
   "source": [
    "# Descarga los datos de una estación del Servicio Meteorológico Nacional\n",
    "# http://smn1.conagua.gob.mx/emas/\n",
    "# Lee un archivo de texto con la función Pandas \"read_csv\", con elementos separados por mas de \n",
    "# un espacio, brincándose 4 renglones del inicio (encabezados)\n",
    "df0 = pd.read_csv('caborca.TXT', skiprows=4, sep='\\s+')\n",
    "# \"Shift + Enter\""
   ]
  },
  {
   "cell_type": "code",
   "execution_count": 3,
   "metadata": {},
   "outputs": [
    {
     "data": {
      "text/html": [
       "<div>\n",
       "<style>\n",
       "    .dataframe thead tr:only-child th {\n",
       "        text-align: right;\n",
       "    }\n",
       "\n",
       "    .dataframe thead th {\n",
       "        text-align: left;\n",
       "    }\n",
       "\n",
       "    .dataframe tbody tr th {\n",
       "        vertical-align: top;\n",
       "    }\n",
       "</style>\n",
       "<table border=\"1\" class=\"dataframe\">\n",
       "  <thead>\n",
       "    <tr style=\"text-align: right;\">\n",
       "      <th></th>\n",
       "      <th>DD/MM/AAAA</th>\n",
       "      <th>HHMM</th>\n",
       "      <th>DIRS</th>\n",
       "      <th>DIRR</th>\n",
       "      <th>VELS</th>\n",
       "      <th>VELR</th>\n",
       "      <th>TEMP</th>\n",
       "      <th>HR</th>\n",
       "      <th>PB</th>\n",
       "      <th>PREC</th>\n",
       "      <th>RADSOL</th>\n",
       "    </tr>\n",
       "  </thead>\n",
       "  <tbody>\n",
       "    <tr>\n",
       "      <th>0</th>\n",
       "      <td>26/01/2018</td>\n",
       "      <td>17:00</td>\n",
       "      <td>94.0</td>\n",
       "      <td>334.0</td>\n",
       "      <td>6.28</td>\n",
       "      <td>20.3</td>\n",
       "      <td>18.7</td>\n",
       "      <td>26.0</td>\n",
       "      <td>997.6</td>\n",
       "      <td>0.0</td>\n",
       "      <td>520.2</td>\n",
       "    </tr>\n",
       "    <tr>\n",
       "      <th>1</th>\n",
       "      <td>26/01/2018</td>\n",
       "      <td>18:00</td>\n",
       "      <td>193.0</td>\n",
       "      <td>200.0</td>\n",
       "      <td>6.43</td>\n",
       "      <td>19.8</td>\n",
       "      <td>21.2</td>\n",
       "      <td>30.0</td>\n",
       "      <td>997.8</td>\n",
       "      <td>0.0</td>\n",
       "      <td>630.3</td>\n",
       "    </tr>\n",
       "    <tr>\n",
       "      <th>2</th>\n",
       "      <td>26/01/2018</td>\n",
       "      <td>19:00</td>\n",
       "      <td>182.0</td>\n",
       "      <td>192.0</td>\n",
       "      <td>18.33</td>\n",
       "      <td>37.3</td>\n",
       "      <td>21.8</td>\n",
       "      <td>37.0</td>\n",
       "      <td>997.0</td>\n",
       "      <td>0.0</td>\n",
       "      <td>645.8</td>\n",
       "    </tr>\n",
       "    <tr>\n",
       "      <th>3</th>\n",
       "      <td>26/01/2018</td>\n",
       "      <td>20:00</td>\n",
       "      <td>187.0</td>\n",
       "      <td>199.0</td>\n",
       "      <td>22.03</td>\n",
       "      <td>46.3</td>\n",
       "      <td>22.3</td>\n",
       "      <td>34.0</td>\n",
       "      <td>996.2</td>\n",
       "      <td>0.0</td>\n",
       "      <td>689.0</td>\n",
       "    </tr>\n",
       "    <tr>\n",
       "      <th>4</th>\n",
       "      <td>26/01/2018</td>\n",
       "      <td>21:00</td>\n",
       "      <td>198.0</td>\n",
       "      <td>206.0</td>\n",
       "      <td>26.07</td>\n",
       "      <td>55.9</td>\n",
       "      <td>22.3</td>\n",
       "      <td>30.0</td>\n",
       "      <td>995.7</td>\n",
       "      <td>0.0</td>\n",
       "      <td>641.7</td>\n",
       "    </tr>\n",
       "  </tbody>\n",
       "</table>\n",
       "</div>"
      ],
      "text/plain": [
       "   DD/MM/AAAA   HHMM   DIRS   DIRR   VELS  VELR  TEMP    HR     PB  PREC  \\\n",
       "0  26/01/2018  17:00   94.0  334.0   6.28  20.3  18.7  26.0  997.6   0.0   \n",
       "1  26/01/2018  18:00  193.0  200.0   6.43  19.8  21.2  30.0  997.8   0.0   \n",
       "2  26/01/2018  19:00  182.0  192.0  18.33  37.3  21.8  37.0  997.0   0.0   \n",
       "3  26/01/2018  20:00  187.0  199.0  22.03  46.3  22.3  34.0  996.2   0.0   \n",
       "4  26/01/2018  21:00  198.0  206.0  26.07  55.9  22.3  30.0  995.7   0.0   \n",
       "\n",
       "   RADSOL  \n",
       "0   520.2  \n",
       "1   630.3  \n",
       "2   645.8  \n",
       "3   689.0  \n",
       "4   641.7  "
      ]
     },
     "execution_count": 3,
     "metadata": {},
     "output_type": "execute_result"
    }
   ],
   "source": [
    "# Lee los primeros 5 renglones del archivo\n",
    "df0.head()\n",
    "# \"Shift+Enter\""
   ]
  },
  {
   "cell_type": "code",
   "execution_count": 4,
   "metadata": {
    "collapsed": true
   },
   "outputs": [],
   "source": [
    "#Dar estructura de datos (DataFrame)\n",
    "df = pd.DataFrame(df0)"
   ]
  },
  {
   "cell_type": "code",
   "execution_count": 5,
   "metadata": {},
   "outputs": [
    {
     "data": {
      "text/plain": [
       "DD/MM/AAAA     object\n",
       "HHMM           object\n",
       "DIRS          float64\n",
       "DIRR          float64\n",
       "VELS          float64\n",
       "VELR          float64\n",
       "TEMP          float64\n",
       "HR            float64\n",
       "PB            float64\n",
       "PREC          float64\n",
       "RADSOL        float64\n",
       "dtype: object"
      ]
     },
     "execution_count": 5,
     "metadata": {},
     "output_type": "execute_result"
    }
   ],
   "source": [
    "# Ver los tipos de datos que Pandas ha reconocido al leer\n",
    "df.dtypes"
   ]
  },
  {
   "cell_type": "code",
   "execution_count": 6,
   "metadata": {},
   "outputs": [],
   "source": [
    "# Combinar las columnas \"DD/MM/AAAA\" con \"HH:MM\" y convertirla a variable de tiempo\n",
    "# Se crea una nueva columna \"Fecha\" al final con formato de tiempo.\n",
    "# Eliminamos las dos primeras columnas que ya no necesitaremos\n",
    "df['FECHA'] = pd.to_datetime(df.apply(lambda x: x['DD/MM/AAAA'] + ' ' + x['HHMM'], 1), dayfirst=True)\n",
    "df = df.drop(['DD/MM/AAAA', 'HHMM'], 1)"
   ]
  },
  {
   "cell_type": "code",
   "execution_count": 7,
   "metadata": {},
   "outputs": [
    {
     "data": {
      "text/html": [
       "<div>\n",
       "<style>\n",
       "    .dataframe thead tr:only-child th {\n",
       "        text-align: right;\n",
       "    }\n",
       "\n",
       "    .dataframe thead th {\n",
       "        text-align: left;\n",
       "    }\n",
       "\n",
       "    .dataframe tbody tr th {\n",
       "        vertical-align: top;\n",
       "    }\n",
       "</style>\n",
       "<table border=\"1\" class=\"dataframe\">\n",
       "  <thead>\n",
       "    <tr style=\"text-align: right;\">\n",
       "      <th></th>\n",
       "      <th>DIRS</th>\n",
       "      <th>DIRR</th>\n",
       "      <th>VELS</th>\n",
       "      <th>VELR</th>\n",
       "      <th>TEMP</th>\n",
       "      <th>HR</th>\n",
       "      <th>PB</th>\n",
       "      <th>PREC</th>\n",
       "      <th>RADSOL</th>\n",
       "      <th>FECHA</th>\n",
       "    </tr>\n",
       "  </thead>\n",
       "  <tbody>\n",
       "    <tr>\n",
       "      <th>0</th>\n",
       "      <td>94.0</td>\n",
       "      <td>334.0</td>\n",
       "      <td>6.28</td>\n",
       "      <td>20.3</td>\n",
       "      <td>18.7</td>\n",
       "      <td>26.0</td>\n",
       "      <td>997.6</td>\n",
       "      <td>0.0</td>\n",
       "      <td>520.2</td>\n",
       "      <td>2018-01-26 17:00:00</td>\n",
       "    </tr>\n",
       "    <tr>\n",
       "      <th>1</th>\n",
       "      <td>193.0</td>\n",
       "      <td>200.0</td>\n",
       "      <td>6.43</td>\n",
       "      <td>19.8</td>\n",
       "      <td>21.2</td>\n",
       "      <td>30.0</td>\n",
       "      <td>997.8</td>\n",
       "      <td>0.0</td>\n",
       "      <td>630.3</td>\n",
       "      <td>2018-01-26 18:00:00</td>\n",
       "    </tr>\n",
       "    <tr>\n",
       "      <th>2</th>\n",
       "      <td>182.0</td>\n",
       "      <td>192.0</td>\n",
       "      <td>18.33</td>\n",
       "      <td>37.3</td>\n",
       "      <td>21.8</td>\n",
       "      <td>37.0</td>\n",
       "      <td>997.0</td>\n",
       "      <td>0.0</td>\n",
       "      <td>645.8</td>\n",
       "      <td>2018-01-26 19:00:00</td>\n",
       "    </tr>\n",
       "    <tr>\n",
       "      <th>3</th>\n",
       "      <td>187.0</td>\n",
       "      <td>199.0</td>\n",
       "      <td>22.03</td>\n",
       "      <td>46.3</td>\n",
       "      <td>22.3</td>\n",
       "      <td>34.0</td>\n",
       "      <td>996.2</td>\n",
       "      <td>0.0</td>\n",
       "      <td>689.0</td>\n",
       "      <td>2018-01-26 20:00:00</td>\n",
       "    </tr>\n",
       "    <tr>\n",
       "      <th>4</th>\n",
       "      <td>198.0</td>\n",
       "      <td>206.0</td>\n",
       "      <td>26.07</td>\n",
       "      <td>55.9</td>\n",
       "      <td>22.3</td>\n",
       "      <td>30.0</td>\n",
       "      <td>995.7</td>\n",
       "      <td>0.0</td>\n",
       "      <td>641.7</td>\n",
       "      <td>2018-01-26 21:00:00</td>\n",
       "    </tr>\n",
       "  </tbody>\n",
       "</table>\n",
       "</div>"
      ],
      "text/plain": [
       "    DIRS   DIRR   VELS  VELR  TEMP    HR     PB  PREC  RADSOL  \\\n",
       "0   94.0  334.0   6.28  20.3  18.7  26.0  997.6   0.0   520.2   \n",
       "1  193.0  200.0   6.43  19.8  21.2  30.0  997.8   0.0   630.3   \n",
       "2  182.0  192.0  18.33  37.3  21.8  37.0  997.0   0.0   645.8   \n",
       "3  187.0  199.0  22.03  46.3  22.3  34.0  996.2   0.0   689.0   \n",
       "4  198.0  206.0  26.07  55.9  22.3  30.0  995.7   0.0   641.7   \n",
       "\n",
       "                FECHA  \n",
       "0 2018-01-26 17:00:00  \n",
       "1 2018-01-26 18:00:00  \n",
       "2 2018-01-26 19:00:00  \n",
       "3 2018-01-26 20:00:00  \n",
       "4 2018-01-26 21:00:00  "
      ]
     },
     "execution_count": 7,
     "metadata": {},
     "output_type": "execute_result"
    }
   ],
   "source": [
    "df.head()"
   ]
  },
  {
   "cell_type": "code",
   "execution_count": 8,
   "metadata": {},
   "outputs": [
    {
     "data": {
      "text/html": [
       "<div>\n",
       "<style>\n",
       "    .dataframe thead tr:only-child th {\n",
       "        text-align: right;\n",
       "    }\n",
       "\n",
       "    .dataframe thead th {\n",
       "        text-align: left;\n",
       "    }\n",
       "\n",
       "    .dataframe tbody tr th {\n",
       "        vertical-align: top;\n",
       "    }\n",
       "</style>\n",
       "<table border=\"1\" class=\"dataframe\">\n",
       "  <thead>\n",
       "    <tr style=\"text-align: right;\">\n",
       "      <th></th>\n",
       "      <th>DIRS</th>\n",
       "      <th>DIRR</th>\n",
       "      <th>VELS</th>\n",
       "      <th>VELR</th>\n",
       "      <th>TEMP</th>\n",
       "      <th>HR</th>\n",
       "      <th>PB</th>\n",
       "      <th>PREC</th>\n",
       "      <th>RADSOL</th>\n",
       "    </tr>\n",
       "  </thead>\n",
       "  <tbody>\n",
       "    <tr>\n",
       "      <th>count</th>\n",
       "      <td>167.000000</td>\n",
       "      <td>167.000000</td>\n",
       "      <td>167.000000</td>\n",
       "      <td>167.000000</td>\n",
       "      <td>167.000000</td>\n",
       "      <td>166.000000</td>\n",
       "      <td>166.000000</td>\n",
       "      <td>166.0</td>\n",
       "      <td>165.000000</td>\n",
       "    </tr>\n",
       "    <tr>\n",
       "      <th>mean</th>\n",
       "      <td>183.916168</td>\n",
       "      <td>203.335329</td>\n",
       "      <td>15.745629</td>\n",
       "      <td>32.202994</td>\n",
       "      <td>22.386228</td>\n",
       "      <td>34.204819</td>\n",
       "      <td>994.701807</td>\n",
       "      <td>0.0</td>\n",
       "      <td>192.061818</td>\n",
       "    </tr>\n",
       "    <tr>\n",
       "      <th>std</th>\n",
       "      <td>87.589294</td>\n",
       "      <td>88.052053</td>\n",
       "      <td>7.423569</td>\n",
       "      <td>13.085536</td>\n",
       "      <td>76.258840</td>\n",
       "      <td>12.127364</td>\n",
       "      <td>2.009839</td>\n",
       "      <td>0.0</td>\n",
       "      <td>265.878438</td>\n",
       "    </tr>\n",
       "    <tr>\n",
       "      <th>min</th>\n",
       "      <td>22.000000</td>\n",
       "      <td>33.000000</td>\n",
       "      <td>1.730000</td>\n",
       "      <td>13.900000</td>\n",
       "      <td>3.400000</td>\n",
       "      <td>16.000000</td>\n",
       "      <td>989.800000</td>\n",
       "      <td>0.0</td>\n",
       "      <td>0.000000</td>\n",
       "    </tr>\n",
       "    <tr>\n",
       "      <th>25%</th>\n",
       "      <td>103.000000</td>\n",
       "      <td>130.000000</td>\n",
       "      <td>10.905000</td>\n",
       "      <td>22.650000</td>\n",
       "      <td>10.600000</td>\n",
       "      <td>26.000000</td>\n",
       "      <td>993.050000</td>\n",
       "      <td>0.0</td>\n",
       "      <td>0.000000</td>\n",
       "    </tr>\n",
       "    <tr>\n",
       "      <th>50%</th>\n",
       "      <td>193.000000</td>\n",
       "      <td>203.000000</td>\n",
       "      <td>14.370000</td>\n",
       "      <td>27.900000</td>\n",
       "      <td>14.900000</td>\n",
       "      <td>33.000000</td>\n",
       "      <td>995.000000</td>\n",
       "      <td>0.0</td>\n",
       "      <td>0.000000</td>\n",
       "    </tr>\n",
       "    <tr>\n",
       "      <th>75%</th>\n",
       "      <td>268.000000</td>\n",
       "      <td>276.500000</td>\n",
       "      <td>18.010000</td>\n",
       "      <td>38.100000</td>\n",
       "      <td>22.400000</td>\n",
       "      <td>39.750000</td>\n",
       "      <td>996.200000</td>\n",
       "      <td>0.0</td>\n",
       "      <td>457.300000</td>\n",
       "    </tr>\n",
       "    <tr>\n",
       "      <th>max</th>\n",
       "      <td>356.000000</td>\n",
       "      <td>353.000000</td>\n",
       "      <td>40.420000</td>\n",
       "      <td>70.200000</td>\n",
       "      <td>997.200000</td>\n",
       "      <td>72.000000</td>\n",
       "      <td>999.100000</td>\n",
       "      <td>0.0</td>\n",
       "      <td>731.800000</td>\n",
       "    </tr>\n",
       "  </tbody>\n",
       "</table>\n",
       "</div>"
      ],
      "text/plain": [
       "             DIRS        DIRR        VELS        VELR        TEMP          HR  \\\n",
       "count  167.000000  167.000000  167.000000  167.000000  167.000000  166.000000   \n",
       "mean   183.916168  203.335329   15.745629   32.202994   22.386228   34.204819   \n",
       "std     87.589294   88.052053    7.423569   13.085536   76.258840   12.127364   \n",
       "min     22.000000   33.000000    1.730000   13.900000    3.400000   16.000000   \n",
       "25%    103.000000  130.000000   10.905000   22.650000   10.600000   26.000000   \n",
       "50%    193.000000  203.000000   14.370000   27.900000   14.900000   33.000000   \n",
       "75%    268.000000  276.500000   18.010000   38.100000   22.400000   39.750000   \n",
       "max    356.000000  353.000000   40.420000   70.200000  997.200000   72.000000   \n",
       "\n",
       "               PB   PREC      RADSOL  \n",
       "count  166.000000  166.0  165.000000  \n",
       "mean   994.701807    0.0  192.061818  \n",
       "std      2.009839    0.0  265.878438  \n",
       "min    989.800000    0.0    0.000000  \n",
       "25%    993.050000    0.0    0.000000  \n",
       "50%    995.000000    0.0    0.000000  \n",
       "75%    996.200000    0.0  457.300000  \n",
       "max    999.100000    0.0  731.800000  "
      ]
     },
     "execution_count": 8,
     "metadata": {},
     "output_type": "execute_result"
    }
   ],
   "source": [
    "# Realiza un análisis exploratorio de datos\n",
    "df.describe()"
   ]
  },
  {
   "cell_type": "code",
   "execution_count": 9,
   "metadata": {},
   "outputs": [
    {
     "data": {
      "text/html": [
       "<div>\n",
       "<style>\n",
       "    .dataframe thead tr:only-child th {\n",
       "        text-align: right;\n",
       "    }\n",
       "\n",
       "    .dataframe thead th {\n",
       "        text-align: left;\n",
       "    }\n",
       "\n",
       "    .dataframe tbody tr th {\n",
       "        vertical-align: top;\n",
       "    }\n",
       "</style>\n",
       "<table border=\"1\" class=\"dataframe\">\n",
       "  <thead>\n",
       "    <tr style=\"text-align: right;\">\n",
       "      <th></th>\n",
       "      <th>DIRS</th>\n",
       "      <th>DIRR</th>\n",
       "      <th>VELS</th>\n",
       "      <th>VELR</th>\n",
       "      <th>TEMP</th>\n",
       "      <th>HR</th>\n",
       "      <th>PB</th>\n",
       "      <th>PREC</th>\n",
       "      <th>RADSOL</th>\n",
       "      <th>FECHA</th>\n",
       "    </tr>\n",
       "  </thead>\n",
       "  <tbody>\n",
       "    <tr>\n",
       "      <th>50</th>\n",
       "      <td>186.0</td>\n",
       "      <td>195.0</td>\n",
       "      <td>11.73</td>\n",
       "      <td>28.4</td>\n",
       "      <td>24.1</td>\n",
       "      <td>21.0</td>\n",
       "      <td>995.7</td>\n",
       "      <td>0.0</td>\n",
       "      <td>698.5</td>\n",
       "      <td>2018-01-28 19:00:00</td>\n",
       "    </tr>\n",
       "    <tr>\n",
       "      <th>151</th>\n",
       "      <td>207.0</td>\n",
       "      <td>217.0</td>\n",
       "      <td>23.40</td>\n",
       "      <td>44.6</td>\n",
       "      <td>24.2</td>\n",
       "      <td>32.0</td>\n",
       "      <td>993.7</td>\n",
       "      <td>0.0</td>\n",
       "      <td>126.8</td>\n",
       "      <td>2018-02-02 00:00:00</td>\n",
       "    </tr>\n",
       "  </tbody>\n",
       "</table>\n",
       "</div>"
      ],
      "text/plain": [
       "      DIRS   DIRR   VELS  VELR  TEMP    HR     PB  PREC  RADSOL  \\\n",
       "50   186.0  195.0  11.73  28.4  24.1  21.0  995.7   0.0   698.5   \n",
       "151  207.0  217.0  23.40  44.6  24.2  32.0  993.7   0.0   126.8   \n",
       "\n",
       "                  FECHA  \n",
       "50  2018-01-28 19:00:00  \n",
       "151 2018-02-02 00:00:00  "
      ]
     },
     "execution_count": 9,
     "metadata": {},
     "output_type": "execute_result"
    }
   ],
   "source": [
    "# Selecciona los renglones con Temperatura > 24ºC y < 25ºC\n",
    "df_tmp = df[df.TEMP > 24] \n",
    "df_select = df_tmp[df_tmp.TEMP < 25]\n",
    "df_select"
   ]
  },
  {
   "cell_type": "code",
   "execution_count": 10,
   "metadata": {},
   "outputs": [
    {
     "data": {
      "text/plain": [
       "DIRS      183.916168\n",
       "DIRR      203.335329\n",
       "VELS       15.745629\n",
       "VELR       32.202994\n",
       "TEMP       22.386228\n",
       "HR         34.204819\n",
       "PB        994.701807\n",
       "PREC        0.000000\n",
       "RADSOL    192.061818\n",
       "dtype: float64"
      ]
     },
     "execution_count": 10,
     "metadata": {},
     "output_type": "execute_result"
    }
   ],
   "source": [
    "\n",
    "# Calcula el promedio de las columnas, excepto en la FECHA (que no tendría sentido)\n",
    "df.mean()"
   ]
  },
  {
   "cell_type": "code",
   "execution_count": 11,
   "metadata": {},
   "outputs": [
    {
     "data": {
      "text/plain": [
       "22.38622754491018"
      ]
     },
     "execution_count": 11,
     "metadata": {},
     "output_type": "execute_result"
    }
   ],
   "source": [
    "# Calcula el promedio de las Temperaturas\n",
    "df.TEMP.mean()"
   ]
  },
  {
   "cell_type": "code",
   "execution_count": 12,
   "metadata": {},
   "outputs": [
    {
     "data": {
      "image/png": "[encoded data removed]",
      "text/plain": [
       "<matplotlib.figure.Figure at 0x7fbd66aa54e0>"
      ]
     },
     "metadata": {},
     "output_type": "display_data"
    }
   ],
   "source": [
    "# Gráfica de la rapidez de los vientos (m/s) \n",
    "plt.figure(); df.VELS.plot(); plt.legend(loc='best')\n",
    "plt.title(\"Variación de la Velocidad de los Vientos\")\n",
    "plt.ylabel(\"Rapidez (m/s)\")\n",
    "plt.grid(True)\n",
    "plt.show()"
   ]
  },
  {
   "cell_type": "code",
   "execution_count": 13,
   "metadata": {},
   "outputs": [
    {
     "data": {
      "text/plain": [
       "<matplotlib.figure.Figure at 0x7fbd66ac6898>"
      ]
     },
     "metadata": {},
     "output_type": "display_data"
    },
    {
     "data": {
      "image/png": "[encoded data removed]",
      "text/plain": [
       "<matplotlib.figure.Figure at 0x7fbd66ac6588>"
      ]
     },
     "metadata": {},
     "output_type": "display_data"
    }
   ],
   "source": [
    "\n",
    "# Gráfica de Temperatura y Humedad Relativa\n",
    "df1 = df[['TEMP','HR']]\n",
    "plt.figure(); df1.plot(); plt.legend(loc='best')\n",
    "plt.title(\"Variación de la Temperatura y la Humedad Relativa\")\n",
    "plt.ylabel(\"Temp ºC /(%) HR\")\n",
    "plt.grid(True)\n",
    "plt.show()"
   ]
  },
  {
   "cell_type": "code",
   "execution_count": 14,
   "metadata": {},
   "outputs": [
    {
     "data": {
      "image/png": "[encoded data removed]",
      "text/plain": [
       "<matplotlib.figure.Figure at 0x7fbd88b89630>"
      ]
     },
     "metadata": {},
     "output_type": "display_data"
    }
   ],
   "source": [
    "plt.plot_date(x=df.FECHA, y=df.TEMP, fmt=\"b-\")\n",
    "plt.title(\"Variación de la Temperatura\")\n",
    "plt.ylabel(\"Temp ºC\")\n",
    "plt.grid(True)\n",
    "plt.show()"
   ]
  },
  {
   "cell_type": "code",
   "execution_count": 15,
   "metadata": {},
   "outputs": [
    {
     "data": {
      "text/plain": [
       "<matplotlib.figure.Figure at 0x7fbd5fa3eeb8>"
      ]
     },
     "metadata": {},
     "output_type": "display_data"
    },
    {
     "data": {
      "image/png": "[encoded data removed]",
      "text/plain": [
       "<matplotlib.figure.Figure at 0x7fbd5f905fd0>"
      ]
     },
     "metadata": {},
     "output_type": "display_data"
    }
   ],
   "source": [
    "#Haremos una gráfica que muestre la rapidez de los vientos y las rafagas en función del tiempo\n",
    "df1 = df[['VELS','VELR']]\n",
    "plt.figure(); df1.plot(); plt.legend(loc='best')\n",
    "plt.title(\"Velocidad de vientos y rafagas\")\n",
    "plt.ylabel(\"Vientos / Rafagas\")\n",
    "plt.grid(True)\n",
    "plt.show()\n"
   ]
  },
  {
   "cell_type": "code",
   "execution_count": 16,
   "metadata": {
    "scrolled": true
   },
   "outputs": [
    {
     "data": {
      "image/png": "[encoded data removed]",
      "text/plain": [
       "<matplotlib.figure.Figure at 0x7fbd66af3cc0>"
      ]
     },
     "metadata": {},
     "output_type": "display_data"
    }
   ],
   "source": [
    "plt.plot_date(x=df.FECHA, y=df.DIRS, fmt=\"b-\")\n",
    "plt.title(\"Cambio en la dirección del Viento\")\n",
    "plt.ylabel(\"Dirección del Viento\")\n",
    "plt.grid(True)\n",
    "plt.show()"
   ]
  },
  {
   "cell_type": "code",
   "execution_count": 17,
   "metadata": {},
   "outputs": [
    {
     "data": {
      "image/png": "[encoded data removed]",
      "text/plain": [
       "<matplotlib.figure.Figure at 0x7fbd5f84d470>"
      ]
     },
     "metadata": {},
     "output_type": "display_data"
    }
   ],
   "source": [
    "plt.plot_date(x=df.FECHA, y=df.RADSOL, fmt=\"b-\")\n",
    "plt.title(\"Comportamiento de la Radiación Solar\")\n",
    "plt.ylabel(\"Radiación Solar\")\n",
    "plt.grid(True)\n",
    "plt.show()"
   ]
  },
  {
   "cell_type": "code",
   "execution_count": 18,
   "metadata": {},
   "outputs": [
    {
     "data": {
      "text/plain": [
       "3.3999999999999999"
      ]
     },
     "execution_count": 18,
     "metadata": {},
     "output_type": "execute_result"
    }
   ],
   "source": [
    "#Diferencia entre la temperatura maxima y minima \n",
    "df.TEMP.min()\n"
   ]
  },
  {
   "cell_type": "code",
   "execution_count": 19,
   "metadata": {},
   "outputs": [
    {
     "data": {
      "text/plain": [
       "997.20000000000005"
      ]
     },
     "execution_count": 19,
     "metadata": {},
     "output_type": "execute_result"
    }
   ],
   "source": [
    "df.TEMP.max()"
   ]
  },
  {
   "cell_type": "code",
   "execution_count": 21,
   "metadata": {},
   "outputs": [
    {
     "data": {
      "text/html": [
       "<div>\n",
       "<style>\n",
       "    .dataframe thead tr:only-child th {\n",
       "        text-align: right;\n",
       "    }\n",
       "\n",
       "    .dataframe thead th {\n",
       "        text-align: left;\n",
       "    }\n",
       "\n",
       "    .dataframe tbody tr th {\n",
       "        vertical-align: top;\n",
       "    }\n",
       "</style>\n",
       "<table border=\"1\" class=\"dataframe\">\n",
       "  <thead>\n",
       "    <tr style=\"text-align: right;\">\n",
       "      <th></th>\n",
       "      <th>DIRS</th>\n",
       "      <th>DIRR</th>\n",
       "      <th>VELS</th>\n",
       "      <th>VELR</th>\n",
       "      <th>TEMP</th>\n",
       "      <th>HR</th>\n",
       "      <th>PB</th>\n",
       "      <th>PREC</th>\n",
       "      <th>RADSOL</th>\n",
       "    </tr>\n",
       "  </thead>\n",
       "  <tbody>\n",
       "    <tr>\n",
       "      <th>count</th>\n",
       "      <td>167.000000</td>\n",
       "      <td>167.000000</td>\n",
       "      <td>167.000000</td>\n",
       "      <td>167.000000</td>\n",
       "      <td>167.000000</td>\n",
       "      <td>166.000000</td>\n",
       "      <td>166.000000</td>\n",
       "      <td>166.0</td>\n",
       "      <td>165.000000</td>\n",
       "    </tr>\n",
       "    <tr>\n",
       "      <th>mean</th>\n",
       "      <td>183.916168</td>\n",
       "      <td>203.335329</td>\n",
       "      <td>15.745629</td>\n",
       "      <td>32.202994</td>\n",
       "      <td>22.386228</td>\n",
       "      <td>34.204819</td>\n",
       "      <td>994.701807</td>\n",
       "      <td>0.0</td>\n",
       "      <td>192.061818</td>\n",
       "    </tr>\n",
       "    <tr>\n",
       "      <th>std</th>\n",
       "      <td>87.589294</td>\n",
       "      <td>88.052053</td>\n",
       "      <td>7.423569</td>\n",
       "      <td>13.085536</td>\n",
       "      <td>76.258840</td>\n",
       "      <td>12.127364</td>\n",
       "      <td>2.009839</td>\n",
       "      <td>0.0</td>\n",
       "      <td>265.878438</td>\n",
       "    </tr>\n",
       "    <tr>\n",
       "      <th>min</th>\n",
       "      <td>22.000000</td>\n",
       "      <td>33.000000</td>\n",
       "      <td>1.730000</td>\n",
       "      <td>13.900000</td>\n",
       "      <td>3.400000</td>\n",
       "      <td>16.000000</td>\n",
       "      <td>989.800000</td>\n",
       "      <td>0.0</td>\n",
       "      <td>0.000000</td>\n",
       "    </tr>\n",
       "    <tr>\n",
       "      <th>25%</th>\n",
       "      <td>103.000000</td>\n",
       "      <td>130.000000</td>\n",
       "      <td>10.905000</td>\n",
       "      <td>22.650000</td>\n",
       "      <td>10.600000</td>\n",
       "      <td>26.000000</td>\n",
       "      <td>993.050000</td>\n",
       "      <td>0.0</td>\n",
       "      <td>0.000000</td>\n",
       "    </tr>\n",
       "    <tr>\n",
       "      <th>50%</th>\n",
       "      <td>193.000000</td>\n",
       "      <td>203.000000</td>\n",
       "      <td>14.370000</td>\n",
       "      <td>27.900000</td>\n",
       "      <td>14.900000</td>\n",
       "      <td>33.000000</td>\n",
       "      <td>995.000000</td>\n",
       "      <td>0.0</td>\n",
       "      <td>0.000000</td>\n",
       "    </tr>\n",
       "    <tr>\n",
       "      <th>75%</th>\n",
       "      <td>268.000000</td>\n",
       "      <td>276.500000</td>\n",
       "      <td>18.010000</td>\n",
       "      <td>38.100000</td>\n",
       "      <td>22.400000</td>\n",
       "      <td>39.750000</td>\n",
       "      <td>996.200000</td>\n",
       "      <td>0.0</td>\n",
       "      <td>457.300000</td>\n",
       "    </tr>\n",
       "    <tr>\n",
       "      <th>max</th>\n",
       "      <td>356.000000</td>\n",
       "      <td>353.000000</td>\n",
       "      <td>40.420000</td>\n",
       "      <td>70.200000</td>\n",
       "      <td>997.200000</td>\n",
       "      <td>72.000000</td>\n",
       "      <td>999.100000</td>\n",
       "      <td>0.0</td>\n",
       "      <td>731.800000</td>\n",
       "    </tr>\n",
       "  </tbody>\n",
       "</table>\n",
       "</div>"
      ],
      "text/plain": [
       "             DIRS        DIRR        VELS        VELR        TEMP          HR  \\\n",
       "count  167.000000  167.000000  167.000000  167.000000  167.000000  166.000000   \n",
       "mean   183.916168  203.335329   15.745629   32.202994   22.386228   34.204819   \n",
       "std     87.589294   88.052053    7.423569   13.085536   76.258840   12.127364   \n",
       "min     22.000000   33.000000    1.730000   13.900000    3.400000   16.000000   \n",
       "25%    103.000000  130.000000   10.905000   22.650000   10.600000   26.000000   \n",
       "50%    193.000000  203.000000   14.370000   27.900000   14.900000   33.000000   \n",
       "75%    268.000000  276.500000   18.010000   38.100000   22.400000   39.750000   \n",
       "max    356.000000  353.000000   40.420000   70.200000  997.200000   72.000000   \n",
       "\n",
       "               PB   PREC      RADSOL  \n",
       "count  166.000000  166.0  165.000000  \n",
       "mean   994.701807    0.0  192.061818  \n",
       "std      2.009839    0.0  265.878438  \n",
       "min    989.800000    0.0    0.000000  \n",
       "25%    993.050000    0.0    0.000000  \n",
       "50%    995.000000    0.0    0.000000  \n",
       "75%    996.200000    0.0  457.300000  \n",
       "max    999.100000    0.0  731.800000  "
      ]
     },
     "execution_count": 21,
     "metadata": {},
     "output_type": "execute_result"
    }
   ],
   "source": [
    "df.describe()"
   ]
  },
  {
   "cell_type": "code",
   "execution_count": 22,
   "metadata": {
    "collapsed": true
   },
   "outputs": [],
   "source": [
    "df2= df.loc[0:6, ['FECHA','TEMP']]"
   ]
  },
  {
   "cell_type": "code",
   "execution_count": 23,
   "metadata": {},
   "outputs": [
    {
     "data": {
      "text/html": [
       "<div>\n",
       "<style>\n",
       "    .dataframe thead tr:only-child th {\n",
       "        text-align: right;\n",
       "    }\n",
       "\n",
       "    .dataframe thead th {\n",
       "        text-align: left;\n",
       "    }\n",
       "\n",
       "    .dataframe tbody tr th {\n",
       "        vertical-align: top;\n",
       "    }\n",
       "</style>\n",
       "<table border=\"1\" class=\"dataframe\">\n",
       "  <thead>\n",
       "    <tr style=\"text-align: right;\">\n",
       "      <th></th>\n",
       "      <th>FECHA</th>\n",
       "      <th>TEMP</th>\n",
       "    </tr>\n",
       "  </thead>\n",
       "  <tbody>\n",
       "    <tr>\n",
       "      <th>0</th>\n",
       "      <td>2018-01-26 17:00:00</td>\n",
       "      <td>18.7</td>\n",
       "    </tr>\n",
       "    <tr>\n",
       "      <th>1</th>\n",
       "      <td>2018-01-26 18:00:00</td>\n",
       "      <td>21.2</td>\n",
       "    </tr>\n",
       "    <tr>\n",
       "      <th>2</th>\n",
       "      <td>2018-01-26 19:00:00</td>\n",
       "      <td>21.8</td>\n",
       "    </tr>\n",
       "    <tr>\n",
       "      <th>3</th>\n",
       "      <td>2018-01-26 20:00:00</td>\n",
       "      <td>22.3</td>\n",
       "    </tr>\n",
       "    <tr>\n",
       "      <th>4</th>\n",
       "      <td>2018-01-26 21:00:00</td>\n",
       "      <td>22.3</td>\n",
       "    </tr>\n",
       "    <tr>\n",
       "      <th>5</th>\n",
       "      <td>2018-01-26 22:00:00</td>\n",
       "      <td>22.2</td>\n",
       "    </tr>\n",
       "    <tr>\n",
       "      <th>6</th>\n",
       "      <td>2018-01-26 23:00:00</td>\n",
       "      <td>21.7</td>\n",
       "    </tr>\n",
       "  </tbody>\n",
       "</table>\n",
       "</div>"
      ],
      "text/plain": [
       "                FECHA  TEMP\n",
       "0 2018-01-26 17:00:00  18.7\n",
       "1 2018-01-26 18:00:00  21.2\n",
       "2 2018-01-26 19:00:00  21.8\n",
       "3 2018-01-26 20:00:00  22.3\n",
       "4 2018-01-26 21:00:00  22.3\n",
       "5 2018-01-26 22:00:00  22.2\n",
       "6 2018-01-26 23:00:00  21.7"
      ]
     },
     "execution_count": 23,
     "metadata": {},
     "output_type": "execute_result"
    }
   ],
   "source": [
    "df2"
   ]
  },
  {
   "cell_type": "code",
   "execution_count": 25,
   "metadata": {},
   "outputs": [
    {
     "data": {
      "text/plain": [
       "FECHA    0 days 06:00:00\n",
       "TEMP                 3.6\n",
       "dtype: object"
      ]
     },
     "execution_count": 25,
     "metadata": {},
     "output_type": "execute_result"
    }
   ],
   "source": [
    "tmin=df2.min()\n",
    "tmax=df2.max()\n",
    "tpromedio= tmax-tmin\n",
    "tpromedio"
   ]
  },
  {
   "cell_type": "code",
   "execution_count": null,
   "metadata": {
    "collapsed": true
   },
   "outputs": [],
   "source": []
  }
 ],
 "metadata": {
  "kernelspec": {
   "display_name": "Python 3",
   "language": "python",
   "name": "python3"
  },
  "language_info": {
   "codemirror_mode": {
    "name": "ipython",
    "version": 3
   },
   "file_extension": ".py",
   "mimetype": "text/x-python",
   "name": "python",
   "nbconvert_exporter": "python",
   "pygments_lexer": "ipython3",
   "version": "3.6.3"
  }
 },
 "nbformat": 4,
 "nbformat_minor": 2
}
